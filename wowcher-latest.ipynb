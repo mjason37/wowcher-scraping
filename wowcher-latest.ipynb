{
 "cells": [
  {
   "cell_type": "code",
   "execution_count": 1,
   "id": "overall-project",
   "metadata": {},
   "outputs": [],
   "source": [
    "# Import required modules\n",
    "import time\n",
    "import pandas as pd\n",
    "from selenium import webdriver\n",
    "from selenium.webdriver.common.keys import Keys\n",
    "from selenium.webdriver.support.ui import WebDriverWait\n",
    "from selenium.webdriver.chrome.options import Options"
   ]
  },
  {
   "cell_type": "code",
   "execution_count": 2,
   "id": "insured-metropolitan",
   "metadata": {},
   "outputs": [],
   "source": [
    "# This function scrapes top 4 courses from a ctegory link\n",
    "def scrapeTop4Course(url):\n",
    "    \"\"\"url = course category link,\n",
    "    return = top 4 course info\"\"\"\n",
    "    \n",
    "    # Initialize web driver\n",
    "    driver = webdriver.Chrome(r\"/home/faysal/Documents/chromedriver\")\n",
    "    driver.get(url) # Wowchar course category link\n",
    "    driver.maximize_window()\n",
    "    time.sleep(20)\n",
    "\n",
    "    # Press escape key to close the pop up\n",
    "    webdriver.ActionChains(driver).send_keys(Keys.ESCAPE).perform()\n",
    "    agree = driver.find_element_by_id(\"didomi-notice-agree-button\")\n",
    "    agree.click()\n",
    "    time.sleep(5)\n",
    "    \n",
    "    # Empty list of variables to be scraped\n",
    "    courseTitle = []\n",
    "    courseLink = []\n",
    "    priceAndProvider = []\n",
    "    unitSold = []\n",
    "    \n",
    "    # This is the main container for top 4 courses\n",
    "    container = driver.find_elements_by_css_selector(\"div.deal.deal-lead\")\n",
    "    for cont in container:\n",
    "        # Scrape course title\n",
    "        try:\n",
    "            courseTitle.append(cont.find_element_by_css_selector(\".deal-header__headline\").text.strip())\n",
    "        except:\n",
    "            courseTitle.append(\"na\")\n",
    "        \n",
    "        # Scrape courseprice and course provider together\n",
    "        try:\n",
    "            priceAndProvider.append(cont.find_element_by_css_selector(\".deal-header__title\").text.strip())\n",
    "        except:\n",
    "            priceAndProvider.appendend(\"na\")\n",
    "        \n",
    "        # Scrape course unit sale\n",
    "        try:\n",
    "            unitSold.append(cont.find_element_by_css_selector(\".deal-status-bar__value\").text.strip())\n",
    "        except:\n",
    "            unitSold.append(0)\n",
    "        \n",
    "        # Scrape course link\n",
    "        try:\n",
    "            for lnk in cont.find_elements_by_css_selector(\".deal-single-image__link.MAIN_DEAL\"):\n",
    "                courseLink.append(lnk.get_attribute(\"href\"))\n",
    "        except:\n",
    "            courseLink.append(url)\n",
    "    \n",
    "    # Input category link is the course link for 1st course\n",
    "    courseLink.insert(0, url)\n",
    "    \n",
    "    # Drop duplicate links if any maintaining the order\n",
    "    courseLink = list(dict.fromkeys(courseLink))\n",
    "    \n",
    "    \n",
    "    \n",
    "    # Create a df off scraped variables\n",
    "    df = pd.DataFrame({\n",
    "        \"courseTitle\":courseTitle,\n",
    "        \"courseLink\":courseLink,\n",
    "        \"priceAndProvider\":priceAndProvider,\n",
    "        \"unitSold\":unitSold\n",
    "    })\n",
    "    \n",
    "    # Extract category\n",
    "    df[\"category\"] = url.split(\"/\")[-1].strip()\n",
    "    \n",
    "    # Extract offer price\n",
    "    df[\"offerPrice\"] = df.priceAndProvider.str.split(\" \").str[0].str.replace(\"£\", \"\")\n",
    "    \n",
    "    # Extract course provider \n",
    "    df[\"courseProvider\"] = df.priceAndProvider.str.split(\"from\").str[-1].str.split(\" - \").str[0].str.strip()\n",
    "    \n",
    "    # Close the web driver\n",
    "    driver.close()\n",
    "    \n",
    "    # Return required variables\n",
    "    return df[[\"courseTitle\", \"courseLink\", \"courseProvider\", \"unitSold\", \"offerPrice\", \"category\"]]"
   ]
  },
  {
   "cell_type": "code",
   "execution_count": 3,
   "id": "centered-edward",
   "metadata": {},
   "outputs": [],
   "source": [
    "# This function scrapes all the courses except top 4\n",
    "def scrapeTheRest(url):\n",
    "    \"\"\"url = course category link,\n",
    "    return = rest of the course info\"\"\"\n",
    "    \n",
    "    # Initialize web drivers\n",
    "    driver = webdriver.Chrome(r\"/home/faysal/Documents/chromedriver\")\n",
    "    driver.get(url) # Wowchar courses link\n",
    "    driver.maximize_window()\n",
    "    time.sleep(20)\n",
    "\n",
    "    # Press escape key to close the pop up\n",
    "    webdriver.ActionChains(driver).send_keys(Keys.ESCAPE).perform()\n",
    "    agree = driver.find_element_by_id(\"didomi-notice-agree-button\")\n",
    "    agree.click()\n",
    "    time.sleep(2)\n",
    "\n",
    "    # \"Load More\" button is found after scrolling down 3 times.\n",
    "    for _ in range(3):\n",
    "        driver.execute_script(\"window.scrollTo(0, document.body.scrollHeight);\")\n",
    "        time.sleep(6)\n",
    "\n",
    "\n",
    "    # Clicking load more button max 50 time. It there is no load more button, it breaks out of the loop\n",
    "    for _ in range(50):\n",
    "        try:\n",
    "            loadMoreButton = driver.find_element_by_css_selector(\"button.button.button--is-primary.button--is-state-compact\")\n",
    "            loadMoreButton.click()\n",
    "            time.sleep(15)\n",
    "        except:\n",
    "            print(\"No more pages to load\")\n",
    "            break\n",
    "    \n",
    "    \n",
    "    # Initialize empty list of variables to be extracted\n",
    "    courseTitle = []\n",
    "    courseProvider = []\n",
    "    courseLink = []\n",
    "    price = []\n",
    "    unitSold = []\n",
    "\n",
    "    # Get all the main containers\n",
    "    mainContainers = driver.find_elements_by_css_selector(\"div.deal.deal-summary\") # All the main containers\n",
    "\n",
    "    # Iterate through every single main container\n",
    "    for cont in mainContainers:\n",
    "\n",
    "        # Scrape course title\n",
    "        try:\n",
    "            courseTitle.append(cont.find_element_by_css_selector(\"div.deal-summary__header\").text)\n",
    "        except:\n",
    "            courseTitle.append(\"na\")\n",
    "\n",
    "        # Scrape image \"alt\" text, since there is no text for providers\n",
    "        try:\n",
    "            courseProvider.append(cont.find_element_by_css_selector(\"img.deal-merchant-logo__logo\").get_attribute(\"alt\"))\n",
    "        except:\n",
    "            courseProvider.append(\"na\")\n",
    "\n",
    "        # Scrape unit Sold\n",
    "        try:\n",
    "            unitSold.append(cont.find_element_by_css_selector(\"div.deal-status-bar__value\").text)\n",
    "        except:\n",
    "            unitSold.append(\"na\")\n",
    "\n",
    "        # Scrape offer and original price together\n",
    "        try:\n",
    "            price.append(cont.find_element_by_css_selector(\"div.deal-summary__main-price-splat\").text)\n",
    "        except:\n",
    "            price.append(\"na\")\n",
    "\n",
    "        # Scrape course link\n",
    "        try:\n",
    "            courseLink.append(cont.find_element_by_css_selector(\"a.deal-single-image__link.BOTTOM_DEAL\").get_attribute(\"href\"))\n",
    "        except:\n",
    "            courseLink.append(\"na\")\n",
    "    \n",
    "    # If there is at least 1 course\n",
    "    if len(courseTitle)>0:\n",
    "        # Final create a  df off scraped variables\n",
    "        df = pd.DataFrame({\n",
    "            \"courseTitle\":courseTitle,\n",
    "            \"courseLink\":courseLink,\n",
    "            \"courseProvider\":courseProvider,\n",
    "            \"unitSold\":unitSold,\n",
    "            \"price\":price\n",
    "        })\n",
    "        \n",
    "        # Extract offer from price\n",
    "        df[\"offerPrice\"] = df.price.str.split(\"\\n\").str[1].str.replace(\"£\", \"\")\n",
    "\n",
    "        sliceFrom = df[df.courseLink==\"na\"].index[-1]\n",
    "        df = df.iloc[sliceFrom+1:]\n",
    "        driver.close()\n",
    "        return df[[\"courseTitle\", \"courseLink\", \"courseProvider\", \"unitSold\", \"offerPrice\"]]"
   ]
  },
  {
   "cell_type": "code",
   "execution_count": 4,
   "id": "persistent-juvenile",
   "metadata": {},
   "outputs": [],
   "source": [
    "# Wrap all the functions inside main\n",
    "def main(url):\n",
    "    \"\"\"url = course category link\"\"\"\n",
    "    \n",
    "    # SCrape top 4 course\n",
    "    top4Df = scrapeTop4Course(url)\n",
    "    \n",
    "    # Scrape rest of the course\n",
    "    restDf = scrapeTheRest(url)\n",
    "    \n",
    "    # Merge 2 dfs\n",
    "    merged = pd.concat([top4Df, restDf]).reset_index(drop=True)\n",
    "    return merged"
   ]
  },
  {
   "cell_type": "code",
   "execution_count": 5,
   "id": "helpful-vitamin",
   "metadata": {},
   "outputs": [],
   "source": [
    "# These are the categories along with their links\n",
    "category = {\n",
    "    \"animal\":\"https://www.wowcher.co.uk/deals/london/learning/animals\",\n",
    "    \"artsAndCrafts\": \"https://www.wowcher.co.uk/deals/london/learning/arts-crafts-design\",\n",
    "    \"beauty\":\"https://www.wowcher.co.uk/deals/london/learning/beauty\",\n",
    "    \"business\":\"https://www.wowcher.co.uk/deals/london/learning/business\",\n",
    "    \"childrenLearning\":\"https://www.wowcher.co.uk/deals/london/learning/childrens-learning\",\n",
    "    \"computing\":\"https://www.wowcher.co.uk/deals/london/learning/computing\",\n",
    "    \"cookingAndBaking\":\"https://www.wowcher.co.uk/deals/london/learning/cookingbaking\",\n",
    "    \"driving\":\"https://www.wowcher.co.uk/deals/london/learning/driving-lessons\",\n",
    "    \"fashionAndJewellery\":\"https://www.wowcher.co.uk/deals/london/learning/fashion-jewellery\",\n",
    "    \"finance\":\"https://www.wowcher.co.uk/deals/london/learning/financial\",\n",
    "    \"health\":\"https://www.wowcher.co.uk/deals/london/learning/health\",\n",
    "    \"hospitalityAndBartending\":\"https://www.wowcher.co.uk/deals/london/learning/hospitalityeventsbartending\",\n",
    "    \"language\":\"https://www.wowcher.co.uk/deals/london/learning/languages\",\n",
    "    \"music\":\"https://www.wowcher.co.uk/deals/london/learning/music-singing\",\n",
    "    \"nlp\":\"https://www.wowcher.co.uk/deals/london/learning/nlp\",\n",
    "    \"photography\":\"https://www.wowcher.co.uk/deals/london/learning/photographic\",\n",
    "    \"selfHelp\":\"https://www.wowcher.co.uk/deals/london/learning/selfhelp\",\n",
    "    \"socialAndChildCare\":\"https://www.wowcher.co.uk/deals/london/learning/social-care-childcare\",\n",
    "    \"sportsAndFitness\":\"https://www.wowcher.co.uk/deals/london/learning/sport-fitness-coaching\",\n",
    "    \"teaching\":\"https://www.wowcher.co.uk/deals/london/learning/teaching\",\n",
    "    \"writing\":\"https://www.wowcher.co.uk/deals/london/learning/writing\",\n",
    "    \"other\":\"https://www.wowcher.co.uk/deals/london/learning/other\"\n",
    "}"
   ]
  },
  {
   "cell_type": "code",
   "execution_count": 6,
   "id": "deluxe-surname",
   "metadata": {},
   "outputs": [
    {
     "name": "stdout",
     "output_type": "stream",
     "text": [
      "No more pages to load\n"
     ]
    }
   ],
   "source": [
    "# Scrape animal cate\n",
    "animal = main(category[\"animal\"])\n",
    "animal[\"category\"] = \"animalCare\""
   ]
  },
  {
   "cell_type": "code",
   "execution_count": 7,
   "id": "optional-protocol",
   "metadata": {},
   "outputs": [
    {
     "name": "stdout",
     "output_type": "stream",
     "text": [
      "No more pages to load\n"
     ]
    }
   ],
   "source": [
    "# Scrape arts and crafts\n",
    "artsAndCrafts = main(category[\"artsAndCrafts\"])\n",
    "artsAndCrafts[\"category\"] = \"artsAndCrafts\""
   ]
  },
  {
   "cell_type": "code",
   "execution_count": 8,
   "id": "loved-employer",
   "metadata": {},
   "outputs": [
    {
     "name": "stdout",
     "output_type": "stream",
     "text": [
      "No more pages to load\n"
     ]
    }
   ],
   "source": [
    "# Scrape beauty cat\n",
    "beauty = main(category[\"beauty\"])\n",
    "beauty[\"category\"] = \"beauty\""
   ]
  },
  {
   "cell_type": "code",
   "execution_count": 9,
   "id": "sealed-tunnel",
   "metadata": {},
   "outputs": [
    {
     "name": "stdout",
     "output_type": "stream",
     "text": [
      "No more pages to load\n"
     ]
    }
   ],
   "source": [
    "# Scrape business cat\n",
    "business = main(category[\"business\"])\n",
    "business[\"category\"] = \"business\""
   ]
  },
  {
   "cell_type": "code",
   "execution_count": 11,
   "id": "complex-perspective",
   "metadata": {},
   "outputs": [
    {
     "name": "stdout",
     "output_type": "stream",
     "text": [
      "No more pages to load\n"
     ]
    }
   ],
   "source": [
    "# SCrape children learning cat\n",
    "childrenLearning = main(category[\"childrenLearning\"])\n",
    "childrenLearning[\"category\"] = \"childrenLearning\""
   ]
  },
  {
   "cell_type": "code",
   "execution_count": 12,
   "id": "alien-anxiety",
   "metadata": {},
   "outputs": [
    {
     "name": "stdout",
     "output_type": "stream",
     "text": [
      "No more pages to load\n"
     ]
    }
   ],
   "source": [
    "# Scrape computing cat\n",
    "computing = main(category[\"computing\"])\n",
    "computing[\"category\"] = \"computing\""
   ]
  },
  {
   "cell_type": "code",
   "execution_count": 13,
   "id": "trained-involvement",
   "metadata": {},
   "outputs": [
    {
     "name": "stdout",
     "output_type": "stream",
     "text": [
      "No more pages to load\n"
     ]
    }
   ],
   "source": [
    "# Scrape cooking and baking cat\n",
    "cookingAndBaking = main(category[\"cookingAndBaking\"])\n",
    "cookingAndBaking[\"category\"] = \"cookingAndBaking\""
   ]
  },
  {
   "cell_type": "code",
   "execution_count": 14,
   "id": "synthetic-projection",
   "metadata": {},
   "outputs": [
    {
     "name": "stdout",
     "output_type": "stream",
     "text": [
      "No more pages to load\n"
     ]
    }
   ],
   "source": [
    "# Scrape driving cat\n",
    "driving = main(category[\"driving\"])\n",
    "driving[\"category\"] = \"driving\""
   ]
  },
  {
   "cell_type": "code",
   "execution_count": 15,
   "id": "minor-scholarship",
   "metadata": {},
   "outputs": [
    {
     "name": "stdout",
     "output_type": "stream",
     "text": [
      "No more pages to load\n"
     ]
    }
   ],
   "source": [
    "# Scrape fashion cat\n",
    "fashionAndJewellery = main(category[\"fashionAndJewellery\"])\n",
    "fashionAndJewellery[\"category\"] = \"fashionAndJewellery\""
   ]
  },
  {
   "cell_type": "code",
   "execution_count": 16,
   "id": "assured-proposal",
   "metadata": {},
   "outputs": [
    {
     "name": "stdout",
     "output_type": "stream",
     "text": [
      "No more pages to load\n"
     ]
    }
   ],
   "source": [
    "# Scrape finance cat\n",
    "finance = main(category[\"finance\"])\n",
    "finance[\"category\"] = \"finance\""
   ]
  },
  {
   "cell_type": "code",
   "execution_count": 17,
   "id": "sharp-herald",
   "metadata": {},
   "outputs": [
    {
     "name": "stdout",
     "output_type": "stream",
     "text": [
      "No more pages to load\n"
     ]
    }
   ],
   "source": [
    "# SCrape health cat\n",
    "health = main(category[\"health\"])\n",
    "health[\"category\"] = \"health\""
   ]
  },
  {
   "cell_type": "code",
   "execution_count": 18,
   "id": "smaller-reputation",
   "metadata": {},
   "outputs": [
    {
     "name": "stdout",
     "output_type": "stream",
     "text": [
      "No more pages to load\n"
     ]
    }
   ],
   "source": [
    "# Scrape hospitality cat\n",
    "hospitalityAndBartending = main(category[\"hospitalityAndBartending\"])\n",
    "hospitalityAndBartending[\"category\"] = \"hospitalityAndBartending\""
   ]
  },
  {
   "cell_type": "code",
   "execution_count": 19,
   "id": "rough-wallpaper",
   "metadata": {},
   "outputs": [
    {
     "name": "stdout",
     "output_type": "stream",
     "text": [
      "No more pages to load\n"
     ]
    }
   ],
   "source": [
    "# SCrape lang cat\n",
    "language = main(category[\"language\"])\n",
    "language[\"category\"] = \"language\""
   ]
  },
  {
   "cell_type": "code",
   "execution_count": 20,
   "id": "fixed-aquatic",
   "metadata": {},
   "outputs": [
    {
     "name": "stdout",
     "output_type": "stream",
     "text": [
      "No more pages to load\n"
     ]
    }
   ],
   "source": [
    "# SCrape music category\n",
    "music = main(category[\"music\"])\n",
    "music[\"category\"] = \"music\""
   ]
  },
  {
   "cell_type": "code",
   "execution_count": 21,
   "id": "working-rebecca",
   "metadata": {},
   "outputs": [
    {
     "name": "stdout",
     "output_type": "stream",
     "text": [
      "No more pages to load\n"
     ]
    }
   ],
   "source": [
    "# Scrape nlp cat\n",
    "nlp = main(category[\"nlp\"])\n",
    "nlp[\"category\"] = \"nlp\""
   ]
  },
  {
   "cell_type": "code",
   "execution_count": 22,
   "id": "interior-baltimore",
   "metadata": {},
   "outputs": [
    {
     "name": "stdout",
     "output_type": "stream",
     "text": [
      "No more pages to load\n"
     ]
    }
   ],
   "source": [
    "# SCrape photography cat\n",
    "photography = main(category[\"photography\"])\n",
    "photography[\"category\"] = \"photography\""
   ]
  },
  {
   "cell_type": "code",
   "execution_count": 23,
   "id": "swedish-compact",
   "metadata": {},
   "outputs": [
    {
     "name": "stdout",
     "output_type": "stream",
     "text": [
      "No more pages to load\n"
     ]
    }
   ],
   "source": [
    "# Scrape selfhelp cat\n",
    "selfHelp = main(category[\"selfHelp\"])\n",
    "selfHelp[\"category\"] = \"selfHelp\""
   ]
  },
  {
   "cell_type": "code",
   "execution_count": 24,
   "id": "middle-version",
   "metadata": {},
   "outputs": [
    {
     "name": "stdout",
     "output_type": "stream",
     "text": [
      "No more pages to load\n"
     ]
    }
   ],
   "source": [
    "# Scrape social and child care\n",
    "socialAndChildCare = main(category[\"socialAndChildCare\"])\n",
    "socialAndChildCare[\"category\"] = \"socialAndChildCare\""
   ]
  },
  {
   "cell_type": "code",
   "execution_count": 25,
   "id": "experienced-youth",
   "metadata": {},
   "outputs": [
    {
     "name": "stdout",
     "output_type": "stream",
     "text": [
      "No more pages to load\n"
     ]
    }
   ],
   "source": [
    "# SCrape sports and fitness cat\n",
    "sportsAndFitness = main(category[\"sportsAndFitness\"])\n",
    "sportsAndFitness[\"category\"] = \"sportsAndFitness\""
   ]
  },
  {
   "cell_type": "code",
   "execution_count": 26,
   "id": "increased-talent",
   "metadata": {},
   "outputs": [
    {
     "name": "stdout",
     "output_type": "stream",
     "text": [
      "No more pages to load\n"
     ]
    }
   ],
   "source": [
    "# Scrape teaching cat\n",
    "teaching = main(category[\"teaching\"])\n",
    "teaching[\"category\"] = \"teaching\""
   ]
  },
  {
   "cell_type": "code",
   "execution_count": 27,
   "id": "personalized-destination",
   "metadata": {},
   "outputs": [
    {
     "name": "stdout",
     "output_type": "stream",
     "text": [
      "No more pages to load\n"
     ]
    }
   ],
   "source": [
    "# Scrape writing cat\n",
    "writing = main(category[\"writing\"])\n",
    "writing[\"category\"] = \"writing\""
   ]
  },
  {
   "cell_type": "code",
   "execution_count": 28,
   "id": "hollywood-folks",
   "metadata": {},
   "outputs": [
    {
     "name": "stdout",
     "output_type": "stream",
     "text": [
      "No more pages to load\n"
     ]
    }
   ],
   "source": [
    "# Scrape other cat\n",
    "other = main(category[\"other\"])\n",
    "other[\"category\"] = \"other\""
   ]
  },
  {
   "cell_type": "code",
   "execution_count": 29,
   "id": "satisfactory-startup",
   "metadata": {},
   "outputs": [],
   "source": [
    "# Merge all the cat dfs\n",
    "finalDf = pd.concat([\n",
    "    animal,\n",
    "    artsAndCrafts,\n",
    "    beauty,\n",
    "    business,\n",
    "    childrenLearning,\n",
    "    computing,\n",
    "    cookingAndBaking,\n",
    "    driving,\n",
    "    fashionAndJewellery,\n",
    "    finance,\n",
    "    health,\n",
    "    hospitalityAndBartending,\n",
    "    language,\n",
    "    music,\n",
    "    nlp,\n",
    "    photography,\n",
    "    selfHelp,\n",
    "    socialAndChildCare,\n",
    "    sportsAndFitness,\n",
    "    teaching,\n",
    "    writing,\n",
    "    other\n",
    "])"
   ]
  },
  {
   "cell_type": "code",
   "execution_count": 30,
   "id": "casual-amazon",
   "metadata": {},
   "outputs": [
    {
     "data": {
      "text/plain": [
       "teaching                    160\n",
       "business                    127\n",
       "selfHelp                     73\n",
       "beauty                       66\n",
       "health                       39\n",
       "computing                    25\n",
       "cookingAndBaking             23\n",
       "artsAndCrafts                19\n",
       "animalCare                   15\n",
       "hospitalityAndBartending     10\n",
       "childrenLearning              8\n",
       "socialAndChildCare            7\n",
       "writing                       4\n",
       "fashionAndJewellery           4\n",
       "music                         4\n",
       "language                      4\n",
       "finance                       4\n",
       "sportsAndFitness              4\n",
       "driving                       2\n",
       "photography                   1\n",
       "other                         1\n",
       "nlp                           1\n",
       "Name: category, dtype: int64"
      ]
     },
     "execution_count": 30,
     "metadata": {},
     "output_type": "execute_result"
    }
   ],
   "source": [
    "# No of courses across cats\n",
    "finalDf.category.value_counts()"
   ]
  },
  {
   "cell_type": "code",
   "execution_count": 31,
   "id": "centered-bloom",
   "metadata": {},
   "outputs": [
    {
     "data": {
      "text/plain": [
       "(601, 6)"
      ]
     },
     "execution_count": 31,
     "metadata": {},
     "output_type": "execute_result"
    }
   ],
   "source": [
    "# Total courses\n",
    "finalDf.shape"
   ]
  },
  {
   "cell_type": "code",
   "execution_count": 33,
   "id": "together-capture",
   "metadata": {},
   "outputs": [],
   "source": [
    "# Map providers from alt attribute\n",
    "providerMapping = {\n",
    "    \"fefefee\":\"Lead Academy\",\n",
    "    \"Lead Academy\":\"Lead Academy\",\n",
    "    \n",
    "    \"One Education Logo\":\"One Education\",\n",
    "    \"One Education\":\"One Education\",\n",
    "    \n",
    "    \"MTG_website_logo_-_The_Mandatory_Training_Group_2019_500x\":\"The Mandatory Training Group\",\n",
    "    \"The Mandatory Training Group\":\"The Mandatory Training Group\",\n",
    "    \n",
    "    \"Alpha-academy\":\"Alpha Academy\",\n",
    "    \"£8 instead of £199 for an Italian Language for Beginners online course with Alpha Academy\":\"Alpha Academy\",\n",
    "    \"Alpha Academy\":\"Alpha Academy\",\n",
    "    \n",
    "    \"secondlogo\":\"International Open Academy\",\n",
    "    \"NEW-IOA-Logo\":\"International Open Academy\",\n",
    "    \"International Open Academy) for an accredited autism awareness course\":\"International Open Academy\",\n",
    "    \"International Open Academy!\":\"International Open Academy\",\n",
    "    \"£9.99 instead of £19.99 for a six-month subscription to Storytime Magazine\":\"International Open Academy\",\n",
    "    \"International Open Academy\":\"International Open Academy\",\n",
    "    \n",
    "    \n",
    "    \"Acudemy Logo\":\"Acudemy\",\n",
    "    \"Acudemy\":\"Acudemy\",\n",
    "    \n",
    "    \"coursegate\":\"Course Gate\",\n",
    "    \"CourseGate\":\"Course Gate\",\n",
    "    \"Coursegate\":\"Course Gate\",\n",
    "    \"Course Gate\":\"Course Gate\",\n",
    "    \n",
    "    \"New-Skills-Logo\":\"New Skills Academy\",\n",
    "    \"newskillsUSE\":\"New Skills Academy\",\n",
    "    \"New Skills Academy\":\"New Skills Academy\",\n",
    "    \n",
    "    \"e-Courses4You logo\":\"e-Courses4You\",\n",
    "    \"e-Courses4You\":\"e-Courses4You\",\n",
    "    \n",
    "    \"logo-Janets-light\":\"Janets\",\n",
    "    \"Janets\":\"Janets\",\n",
    "    \n",
    "    \"trendimilogo\":\"Trendimi\",\n",
    "    \"Trendimi\":\"Trendimi\",\n",
    "    \n",
    "    \"Logo\":\"Training Express\",\n",
    "    \"Training-Express-Logo\":\"Training Express\",\n",
    "    \"Training Express\":\"Training Express\",\n",
    "    \n",
    "    \n",
    "    \"logo-(1)\":\"Academy for Health & Fitness\",\n",
    "    \"Academy for Health & Fitness\":\"Academy for Health & Fitness\",\n",
    "    \"Academy For Health and Fitness\":\"Academy For Health & Fitness\",\n",
    "    \n",
    "    \"thisoneuse\":\"Institute of Beauty & Makeup\",\n",
    "    \"OCT-2020\":\"Institute of Beauty & Makeup\",\n",
    "    \"Institute of Beauty & Makeup\":\"Institute of Beauty & Makeup\",\n",
    "    \n",
    "    \"online-1\":\"Career Match\",\n",
    "    \"Career Match\":\"Career Match\",\n",
    "    \n",
    "    \"lol\":\"Numoni\",\n",
    "    \"Numoni\":\"Numoni\",\n",
    "    \n",
    "    \"IT\":\"IT Careers Online\",\n",
    "    \"IT Careers Online\":\"IT Careers Online\",\n",
    "    \n",
    "    \"Online-School-MAR-2020\":\"Learning With Experts\",\n",
    "    \"Learning With Experts\":\"Learning With Experts\",\n",
    "    \n",
    "    \"Knowledge Tree 2020\":\"Knowledge Door\",\n",
    "    \n",
    "    \"coursecloudlogo\":\"Course Cloud\",\n",
    "    \n",
    "    \"harleyoxford-logo\":\"Harley Oxford\",\n",
    "    \"Harley Oxford\":\"Harley Oxford\",\n",
    "    \n",
    "    \n",
    "    \"Holly-and-hugo-logo-final\":\"Holly and Hugo\",\n",
    "    \n",
    "    \"Instant Upskill Logo\":\"Instant Upskill\",\n",
    "    \n",
    "    \"lash-logo\":\"The Lash and Beauty Academy\",\n",
    "    \n",
    "    \"Screenshot-2020-10-28-at-16.40.05\":\"Online Skills Academy\",\n",
    "    \"Online Skills Academy!\":\"Online Skills Academy\",\n",
    "    \"Online Skills Academy\":\"Online Skills Academy\",\n",
    "    \n",
    "    \"Screenshot-2020-04-09-at-08.41.28\":\"Music Gurus\",\n",
    "    \n",
    "    \"2021 Logo\":\"Beke College\",\n",
    "    \"BEKE College C.I.C\":\"Beke College\",\n",
    "    \n",
    "    \"Meze Publishing\":\"Meze Publishing\",\n",
    "    \n",
    "    \"ofcourse\":\"Ofcourse\",\n",
    "    \n",
    "    \"petaddict\":\"Pet Addict\",\n",
    "    \"Pet Addict\":\"Pet Addict\",\n",
    "    \n",
    "    \n",
    "    \"elearnOffice\":\"elearnOffice\",\n",
    "    \n",
    "    \"Igloo Music\":\"Igloo Music\",\n",
    "    \n",
    "    \"vita\":\"Vita Online\",\n",
    "    \n",
    "    \"Event Trix\":\"Event Trix\",\n",
    "    \"EventTrix – save 93%\":\"Event Trix\",\n",
    "    \"eventtrix\":\"Event Trix\",\n",
    "    \n",
    "    \"Careers-Advice-&-Learning-Centre\":\"Careers Advice & Learning Centre\",\n",
    "    \n",
    "    \"Contempo Learning Logo\":\"Contempo Learning\",\n",
    "    \"Contempo Learning\":\"Contempo Learning\",\n",
    "    \n",
    "    \"Tilleo. Or £13 for an annual membership\":\"Tilleo\",\n",
    "    \n",
    "    \"logo2020\":\"My Own Tutor\",\n",
    "    \n",
    "    \"avantaesthetics\":\"Avant Aesthetics Clinic\",\n",
    "    \n",
    "    \"centrelogo\":\"Centre of Excellence\",\n",
    "    \"the Centre of Excellence\":\"Centre of Excellence\",\n",
    "    \n",
    "    \"logobusters\":\"Grade Busters\",\n",
    "    \n",
    "    \"skilllogo\":\"Skill Express\",\n",
    "    \n",
    "    \"enjoy\":\"Enjoy Online Courses\",\n",
    "    \n",
    "    \"mhd-logo\":\"My HairDresser\",\n",
    "    \n",
    "    \"Global TEFL. £19 for a 150-hour Master TEFL course\":\"Global TEFL\",\n",
    "    \n",
    "    \"The Lash & Beauty Studio\":\"The Lash & Beauty Studio\",\n",
    "    \"Lash Logo 2021\":\"he Lash & Beauty Studio\",\n",
    "    \n",
    "    \"1Training\":\"1Training\",\n",
    "    \n",
    "    \"The Fit Body Bootcamp\":\"The Fit Body Bootcamp\",\n",
    "    \n",
    "    \"Focus Fitness UK, or £1249 for level two and three diplomas in fitness instructing and personal training\":\"Focus Fitness UK\",\n",
    "    \n",
    "    \"Secret World of Languages\":\"Secret World of Languages\",\n",
    "    \n",
    "    \"56 UK locations\":\"Young Driver Training\",\n",
    "    \n",
    "    \"dcsx\":\"Quality Care Time Ltd\",\n",
    "    \n",
    "    \"Simpliv\":\"Simpliv\",\n",
    "    \n",
    "    \"logonew2020\":\"Creative Studios\",\n",
    "    \n",
    "    \"£12 instead of £189 for lifetime access to online driving theory test tuition with TheoryTestPass.com\":\"Theory Test Pass\",\n",
    "    \n",
    "    \"Untitled-41-e1604846582473\":\"Couture Training Online\",\n",
    "    \n",
    "}\n",
    "\n",
    "finalDf.courseProvider = finalDf.courseProvider.map(providerMapping)"
   ]
  },
  {
   "cell_type": "code",
   "execution_count": 34,
   "id": "stuck-judge",
   "metadata": {},
   "outputs": [
    {
     "data": {
      "text/html": [
       "<div>\n",
       "<style scoped>\n",
       "    .dataframe tbody tr th:only-of-type {\n",
       "        vertical-align: middle;\n",
       "    }\n",
       "\n",
       "    .dataframe tbody tr th {\n",
       "        vertical-align: top;\n",
       "    }\n",
       "\n",
       "    .dataframe thead th {\n",
       "        text-align: right;\n",
       "    }\n",
       "</style>\n",
       "<table border=\"1\" class=\"dataframe\">\n",
       "  <thead>\n",
       "    <tr style=\"text-align: right;\">\n",
       "      <th></th>\n",
       "      <th>courseTitle</th>\n",
       "      <th>courseLink</th>\n",
       "      <th>courseProvider</th>\n",
       "      <th>unitSold</th>\n",
       "      <th>offerPrice</th>\n",
       "      <th>category</th>\n",
       "    </tr>\n",
       "  </thead>\n",
       "  <tbody>\n",
       "    <tr>\n",
       "      <th>0</th>\n",
       "      <td>Online Dog Grooming, Bathing &amp; First Aid Course</td>\n",
       "      <td>https://www.wowcher.co.uk/deals/london/learnin...</td>\n",
       "      <td>Academy for Health &amp; Fitness</td>\n",
       "      <td>73</td>\n",
       "      <td>10</td>\n",
       "      <td>animalCare</td>\n",
       "    </tr>\n",
       "    <tr>\n",
       "      <th>1</th>\n",
       "      <td>Online Dog Behaviour &amp; Psychology Course</td>\n",
       "      <td>https://www.wowcher.co.uk/deal/london/learning...</td>\n",
       "      <td>Pet Addict</td>\n",
       "      <td>351</td>\n",
       "      <td>14</td>\n",
       "      <td>animalCare</td>\n",
       "    </tr>\n",
       "    <tr>\n",
       "      <th>2</th>\n",
       "      <td>Online Veterinary Support Assistant Course</td>\n",
       "      <td>https://www.wowcher.co.uk/deal/london/learning...</td>\n",
       "      <td>International Open Academy</td>\n",
       "      <td>18</td>\n",
       "      <td>10</td>\n",
       "      <td>animalCare</td>\n",
       "    </tr>\n",
       "    <tr>\n",
       "      <th>3</th>\n",
       "      <td>ADHD Awareness Online Course - CPD Certified!</td>\n",
       "      <td>https://www.wowcher.co.uk/deal/london/learning...</td>\n",
       "      <td>International Open Academy</td>\n",
       "      <td>25</td>\n",
       "      <td>9</td>\n",
       "      <td>animalCare</td>\n",
       "    </tr>\n",
       "    <tr>\n",
       "      <th>4</th>\n",
       "      <td>Online Animal Grooming Course</td>\n",
       "      <td>https://www.wowcher.co.uk/deal/london/learning...</td>\n",
       "      <td>International Open Academy</td>\n",
       "      <td>12</td>\n",
       "      <td>9</td>\n",
       "      <td>animalCare</td>\n",
       "    </tr>\n",
       "  </tbody>\n",
       "</table>\n",
       "</div>"
      ],
      "text/plain": [
       "                                       courseTitle  \\\n",
       "0  Online Dog Grooming, Bathing & First Aid Course   \n",
       "1         Online Dog Behaviour & Psychology Course   \n",
       "2       Online Veterinary Support Assistant Course   \n",
       "3    ADHD Awareness Online Course - CPD Certified!   \n",
       "4                    Online Animal Grooming Course   \n",
       "\n",
       "                                          courseLink  \\\n",
       "0  https://www.wowcher.co.uk/deals/london/learnin...   \n",
       "1  https://www.wowcher.co.uk/deal/london/learning...   \n",
       "2  https://www.wowcher.co.uk/deal/london/learning...   \n",
       "3  https://www.wowcher.co.uk/deal/london/learning...   \n",
       "4  https://www.wowcher.co.uk/deal/london/learning...   \n",
       "\n",
       "                 courseProvider unitSold offerPrice    category  \n",
       "0  Academy for Health & Fitness       73         10  animalCare  \n",
       "1                    Pet Addict      351         14  animalCare  \n",
       "2    International Open Academy       18         10  animalCare  \n",
       "3    International Open Academy       25          9  animalCare  \n",
       "4    International Open Academy       12          9  animalCare  "
      ]
     },
     "execution_count": 34,
     "metadata": {},
     "output_type": "execute_result"
    }
   ],
   "source": [
    "# Final preview\n",
    "finalDf.head()"
   ]
  }
 ],
 "metadata": {
  "kernelspec": {
   "display_name": "Python 3",
   "language": "python",
   "name": "python3"
  },
  "language_info": {
   "codemirror_mode": {
    "name": "ipython",
    "version": 3
   },
   "file_extension": ".py",
   "mimetype": "text/x-python",
   "name": "python",
   "nbconvert_exporter": "python",
   "pygments_lexer": "ipython3",
   "version": "3.7.6"
  }
 },
 "nbformat": 4,
 "nbformat_minor": 5
}
